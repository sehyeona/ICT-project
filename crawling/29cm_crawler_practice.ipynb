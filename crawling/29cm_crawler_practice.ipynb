{
 "cells": [
  {
   "cell_type": "code",
   "execution_count": 10,
   "metadata": {},
   "outputs": [],
   "source": [
    "import os\n",
    "import time\n",
    "import re\n",
    "from PIL import Image\n",
    "import requests\n",
    "import urllib.request\n",
    "from bs4 import BeautifulSoup as bs\n",
    "from selenium import webdriver"
   ]
  },
  {
   "cell_type": "markdown",
   "metadata": {},
   "source": [
    "### 29cm URL 만들기~"
   ]
  },
  {
   "cell_type": "code",
   "execution_count": 11,
   "metadata": {},
   "outputs": [],
   "source": [
    "top = {\"short_sleeve\":\"01\", \"long_sleeve\":\"02\", \"pique_tshirts\":\"03\", \"sleeveless\":\"04\", \"sweat_shirts\":\"05\", \"hoodie\":\"06\", \"zipup\":\"07\"}\n",
    "shirts = {\"short_shirts\":\"01\", \"long_shirts\":\"02\", \"dress_shirts\":\"03\"}\n",
    "pants = {\"slacks\":\"01\", \"chino\":\"02\", \"short\":\"03\", \"cargo\":\"04\", \"denim\":\"05\", \"training\":\"06\"}\n",
    "knit = {\"crew\":\"01\", \"cardigan\":\"02\", \"turtle\":\"03\", \"vest\":\"04\"}\n",
    "shoes = {\"rain\":\"12\", \"sneakers\":\"01\", \"running\":\"09\", \"derby\":\"13\", \"boots\":\"05\", \"loafers\":\"03\", \"flipflop\":\"10\", \"sandle\":\"02\"}\n",
    "outer = {\"light_padding\":\"11\", \"fleece\":\"10\", \"blazer\":\"01\", \"trench_coat\":\"09\", \"trucker\":\"02\", \"coat\":\"06\", \"padding\":\"07\", \"robe\":\"04\", \"vest\":\"05\"}\n",
    "bags = {\"shoulder\":\"02\", \"tote\":\"05\", \"cross\":\"11\", \"backpack\":\"04\"}\n",
    "medium_category = {\"top\":(\"2551181\", top), \"shirts\":(\"2551021\", shirts), \"knit\":(\"2551041\", knit), \"pants\":(\"2551031\", pants), \"shoes\":(\"2551061\", shoes), \"outer\":(\"2551051\", outer), \"bags\":(\"2551071\", bags)}\n",
    "# medium_category[\"top\"][0] + medium_category[\"top\"][1][\"short_sleeve\"]\n",
    "\n",
    "# url = f\"https://www.29cm.co.kr/shop/category/list?category_large_code=255100100&category_medium_code={medium_category}00&category_small_code={medium_category}{small_category}&sort=latest&page={page}&brand=&min_price=&max_price=&count=50\""
   ]
  },
  {
   "cell_type": "code",
   "execution_count": 12,
   "metadata": {},
   "outputs": [],
   "source": [
    "# path = \"/root/chrome_driver/chromedriver\"\n",
    "path_window = r\"/Users/seungsu/Desktop/YBIGTA/chromedriver.exe\"\n",
    "chrome_options = webdriver.ChromeOptions()\n",
    "chrome_options.add_argument(\"window-size=1920x1080\")\n",
    "# chrome_options.add_argument(\"headless\")\n",
    "\n",
    "driver = webdriver.Chrome(path_window, options=chrome_options)\n",
    "driver.implicitly_wait(3)"
   ]
  },
  {
   "cell_type": "markdown",
   "metadata": {},
   "source": [
    "#### 아이템 태그 리스트 얻기"
   ]
  },
  {
   "cell_type": "code",
   "execution_count": 13,
   "metadata": {
    "scrolled": true
   },
   "outputs": [],
   "source": [
    "driver.get(\"https://www.29cm.co.kr/shop/category/list?category_large_code=255100100&category_medium_code=255118100&category_small_code=255118101&sort=latest&page=1&brand=&min_price=&max_price=&count=50\")\n",
    "ul = driver.find_element_by_css_selector(\"ul.prd_section\")\n",
    "all_items = ul.find_elements_by_css_selector(\"a.prd_b_area\")"
   ]
  },
  {
   "cell_type": "markdown",
   "metadata": {},
   "source": [
    "#### 아이템 태그 분석"
   ]
  },
  {
   "cell_type": "code",
   "execution_count": 14,
   "metadata": {},
   "outputs": [],
   "source": [
    "items = []\n",
    "for a in all_items:\n",
    "    item_url = a.get_attribute(\"href\")     #세부 아이템 url\n",
    "    item_img = a.find_element_by_css_selector(\"div.imgbx\").find_element_by_css_selector(\"img.b-lazy\").get_attribute(\"src\")\n",
    "    item_brand = a.find_element_by_css_selector(\"div.brand\").text\n",
    "    item_name = a.find_element_by_css_selector(\"div.name\").text\n",
    "    img = item_img\n",
    "    items.append({\"brand\":item_brand, \"name\":item_name, \"href\":item_url, \"img\":img})"
   ]
  },
  {
   "cell_type": "code",
   "execution_count": 15,
   "metadata": {},
   "outputs": [
    {
     "name": "stdout",
     "output_type": "stream",
     "text": [
      "{'brand': '더니트컴퍼니', 'name': '[스페셜 오더]_수피마 쿨맥스 티셔츠 16컬러', 'href': 'https://www.29cm.co.kr/product/663865', 'img': 'https://img.29cm.co.kr/next-product/2020/04/23/4a2540877c2a43a98ebd21edebdf4225_20200423183038.jpg?width=500'}\n",
      "{'brand': '플루크', 'name': '플루크 new 피그먼트 오버핏 반팔티셔츠 FST701 / 7color M', 'href': 'https://www.29cm.co.kr/product/611019', 'img': 'https://img.29cm.co.kr/next-product/2020/03/05/5a6de5a710f6461ebb52e31c6f79a5e3_20200305150104.jpg?width=500'}\n",
      "{'brand': '플루크', 'name': '플루크 new 피그먼트 오버핏 반팔티셔츠 FST701 / 7color', 'href': 'https://www.29cm.co.kr/product/611034', 'img': 'https://img.29cm.co.kr/next-product/2020/03/05/a16e2a4490d947a6b98e15b8a621a15d_20200305150404.jpg?width=500'}\n",
      "{'brand': '네이더스', 'name': '505C-1 STANDARD SS T-SHIRT', 'href': 'https://www.29cm.co.kr/product/601122', 'img': 'https://img.29cm.co.kr/next-product/2020/02/28/3785e59337294e2fa73b3f6f8efc33b5_20200228181828.jpg?width=500'}\n",
      "{'brand': '네이더스', 'name': '505C-2 STANDARD SS T-SHIRT', 'href': 'https://www.29cm.co.kr/product/601123', 'img': 'data:image/gif;base64,R0lGODlhAQABAAAAACH5BAEKAAEALAAAAAABAAEAAAICTAEAOw=='}\n",
      "{'brand': '토마스모어', 'name': 'ts9205 그레이웨일티 내추럴', 'href': 'https://www.29cm.co.kr/product/340621', 'img': 'data:image/gif;base64,R0lGODlhAQABAAAAACH5BAEKAAEALAAAAAABAAEAAAICTAEAOw=='}\n",
      "{'brand': '플루크', 'name': '플루크 어드벤쳐 트럭커 포켓 반팔티셔츠 FST141 / 4color', 'href': 'https://www.29cm.co.kr/product/625203', 'img': 'data:image/gif;base64,R0lGODlhAQABAAAAACH5BAEKAAEALAAAAAABAAEAAAICTAEAOw=='}\n",
      "{'brand': '블랭크 룸', 'name': 'BLANK ROOM ORGANIC TEE (6color)', 'href': 'https://www.29cm.co.kr/product/665137', 'img': 'data:image/gif;base64,R0lGODlhAQABAAAAACH5BAEKAAEALAAAAAABAAEAAAICTAEAOw=='}\n",
      "{'brand': '빅웨이브컬렉티브', 'name': '[5/25 순차출고] PEACE BEGINS SMILE TEE (10% LIGHT STEEL)', 'href': 'https://www.29cm.co.kr/product/600619', 'img': 'data:image/gif;base64,R0lGODlhAQABAAAAACH5BAEKAAEALAAAAAABAAEAAAICTAEAOw=='}\n",
      "{'brand': '캘리포니아 프로젝트', 'name': 'CITY. PROJECT T-SHIRTS LOS ANGELES (CREAM)', 'href': 'https://www.29cm.co.kr/product/372459', 'img': 'data:image/gif;base64,R0lGODlhAQABAAAAACH5BAEKAAEALAAAAAABAAEAAAICTAEAOw=='}\n",
      "{'brand': '플루크', 'name': '플루크 어드벤쳐 폰트 피그먼트 오버핏 반팔티셔츠 FST705 / 5color M', 'href': 'https://www.29cm.co.kr/product/624806', 'img': 'data:image/gif;base64,R0lGODlhAQABAAAAACH5BAEKAAEALAAAAAABAAEAAAICTAEAOw=='}\n",
      "{'brand': '빅웨이브컬렉티브', 'name': \"[5/25 순차출고] SURF'S UP PENGUIN TEE (1% ASH)\", 'href': 'https://www.29cm.co.kr/product/600199', 'img': 'data:image/gif;base64,R0lGODlhAQABAAAAACH5BAEKAAEALAAAAAABAAEAAAICTAEAOw=='}\n",
      "{'brand': '길단', 'name': '트리플에이 1301 USA핏 반팔라운드 (14컬러)', 'href': 'https://www.29cm.co.kr/product/654467', 'img': 'data:image/gif;base64,R0lGODlhAQABAAAAACH5BAEKAAEALAAAAAABAAEAAAICTAEAOw=='}\n",
      "{'brand': '토마스모어', 'name': 'ts9204 체인티 다크차콜', 'href': 'https://www.29cm.co.kr/product/340603', 'img': 'data:image/gif;base64,R0lGODlhAQABAAAAACH5BAEKAAEALAAAAAABAAEAAAICTAEAOw=='}\n",
      "{'brand': '토마스모어', 'name': 'ts9205 그레이웨일티 챠콜', 'href': 'https://www.29cm.co.kr/product/340618', 'img': 'data:image/gif;base64,R0lGODlhAQABAAAAACH5BAEKAAEALAAAAAABAAEAAAICTAEAOw=='}\n",
      "{'brand': '랩12', 'name': '20S/S 오버핏 피케티셔츠 (6color)', 'href': 'https://www.29cm.co.kr/product/213341', 'img': 'data:image/gif;base64,R0lGODlhAQABAAAAACH5BAEKAAEALAAAAAABAAEAAAICTAEAOw=='}\n",
      "{'brand': '플루크', 'name': '플루크 서클 마운틴 반팔티셔츠 FST142 / 4color', 'href': 'https://www.29cm.co.kr/product/625199', 'img': 'data:image/gif;base64,R0lGODlhAQABAAAAACH5BAEKAAEALAAAAAABAAEAAAICTAEAOw=='}\n",
      "{'brand': '브릭', 'name': 'CTN HALF T-SHIRTS (7COLOR)', 'href': 'https://www.29cm.co.kr/product/212139', 'img': 'data:image/gif;base64,R0lGODlhAQABAAAAACH5BAEKAAEALAAAAAABAAEAAAICTAEAOw=='}\n",
      "{'brand': '토마스모어', 'name': 'ts9204 체인티 화이트', 'href': 'https://www.29cm.co.kr/product/340605', 'img': 'data:image/gif;base64,R0lGODlhAQABAAAAACH5BAEKAAEALAAAAAABAAEAAAICTAEAOw=='}\n",
      "{'brand': '토마스모어', 'name': 'ts9204 체인티 베이지', 'href': 'https://www.29cm.co.kr/product/340606', 'img': 'data:image/gif;base64,R0lGODlhAQABAAAAACH5BAEKAAEALAAAAAABAAEAAAICTAEAOw=='}\n",
      "{'brand': '빅웨이브컬렉티브', 'name': '[5/25 순차출고] DANCING SMILE TEE (1% ASH)', 'href': 'https://www.29cm.co.kr/product/600627', 'img': 'data:image/gif;base64,R0lGODlhAQABAAAAACH5BAEKAAEALAAAAAABAAEAAAICTAEAOw=='}\n",
      "{'brand': '토마스모어', 'name': 'ts9204 체인티-윈터블루', 'href': 'https://www.29cm.co.kr/product/602081', 'img': 'data:image/gif;base64,R0lGODlhAQABAAAAACH5BAEKAAEALAAAAAABAAEAAAICTAEAOw=='}\n",
      "{'brand': '토마스모어', 'name': 'ts9205 그레이웨일티 화이트', 'href': 'https://www.29cm.co.kr/product/340624', 'img': 'data:image/gif;base64,R0lGODlhAQABAAAAACH5BAEKAAEALAAAAAABAAEAAAICTAEAOw=='}\n",
      "{'brand': '토마스모어', 'name': 'ts9204 체인티-올리브그린', 'href': 'https://www.29cm.co.kr/product/602084', 'img': 'data:image/gif;base64,R0lGODlhAQABAAAAACH5BAEKAAEALAAAAAABAAEAAAICTAEAOw=='}\n",
      "{'brand': '플루크', 'name': '플루크 new 피그먼트 오버핏 반팔티셔츠 FST701 / 7color W', 'href': 'https://www.29cm.co.kr/product/611022', 'img': 'data:image/gif;base64,R0lGODlhAQABAAAAACH5BAEKAAEALAAAAAABAAEAAAICTAEAOw=='}\n",
      "{'brand': '에이카화이트', 'name': '[AECA WHITE]FINEST COTTON HALF SLEEVE TEE-WHITE', 'href': 'https://www.29cm.co.kr/product/425779', 'img': 'data:image/gif;base64,R0lGODlhAQABAAAAACH5BAEKAAEALAAAAAABAAEAAAICTAEAOw=='}\n",
      "{'brand': '리센느', 'name': '투톤 오픈 카라티(아이보리)', 'href': 'https://www.29cm.co.kr/product/628813', 'img': 'data:image/gif;base64,R0lGODlhAQABAAAAACH5BAEKAAEALAAAAAABAAEAAAICTAEAOw=='}\n",
      "{'brand': '길단', 'name': '길단 2000 울트라코튼 USA핏 화이트', 'href': 'https://www.29cm.co.kr/product/244558', 'img': 'data:image/gif;base64,R0lGODlhAQABAAAAACH5BAEKAAEALAAAAAABAAEAAAICTAEAOw=='}\n",
      "{'brand': '토마스모어', 'name': 'ts9204 체인티-잉크네이비', 'href': 'https://www.29cm.co.kr/product/601158', 'img': 'data:image/gif;base64,R0lGODlhAQABAAAAACH5BAEKAAEALAAAAAABAAEAAAICTAEAOw=='}\n",
      "{'brand': '빅웨이브컬렉티브', 'name': 'SLOW N STEADY TEE (CLEAN WHITE)', 'href': 'https://www.29cm.co.kr/product/642063', 'img': 'data:image/gif;base64,R0lGODlhAQABAAAAACH5BAEKAAEALAAAAAABAAEAAAICTAEAOw=='}\n",
      "{'brand': '플루크', 'name': '플루크 마운틴 패치포켓 티셔츠 FST144 / 4color', 'href': 'https://www.29cm.co.kr/product/625189', 'img': 'data:image/gif;base64,R0lGODlhAQABAAAAACH5BAEKAAEALAAAAAABAAEAAAICTAEAOw=='}\n",
      "{'brand': '브라운야드', 'name': 'One Day T-Shirt - Black', 'href': 'https://www.29cm.co.kr/product/340361', 'img': 'data:image/gif;base64,R0lGODlhAQABAAAAACH5BAEKAAEALAAAAAABAAEAAAICTAEAOw=='}\n",
      "{'brand': '네이더스', 'name': '505C-3 STANDARD SS T-SHIRT', 'href': 'https://www.29cm.co.kr/product/601155', 'img': 'data:image/gif;base64,R0lGODlhAQABAAAAACH5BAEKAAEALAAAAAABAAEAAAICTAEAOw=='}\n",
      "{'brand': '데상트', 'name': '남녀공용 스몰로고 반팔티셔츠 (S0123UTS21)', 'href': 'https://www.29cm.co.kr/product/621324', 'img': 'data:image/gif;base64,R0lGODlhAQABAAAAACH5BAEKAAEALAAAAAABAAEAAAICTAEAOw=='}\n",
      "{'brand': '브라운야드', 'name': 'One Day T-Shirt - White', 'href': 'https://www.29cm.co.kr/product/340354', 'img': 'data:image/gif;base64,R0lGODlhAQABAAAAACH5BAEKAAEALAAAAAABAAEAAAICTAEAOw=='}\n",
      "{'brand': '인스턴트펑크', 'name': '20SS 빈티지 로고 티셔츠 - 화이트', 'href': 'https://www.29cm.co.kr/product/634636', 'img': 'data:image/gif;base64,R0lGODlhAQABAAAAACH5BAEKAAEALAAAAAABAAEAAAICTAEAOw=='}\n",
      "{'brand': '클로브', 'name': 'Unisex Tee', 'href': 'https://www.29cm.co.kr/product/244383', 'img': 'data:image/gif;base64,R0lGODlhAQABAAAAACH5BAEKAAEALAAAAAABAAEAAAICTAEAOw=='}\n",
      "{'brand': '토마스모어', 'name': 'ts9204 체인티-탱고오렌지', 'href': 'https://www.29cm.co.kr/product/602082', 'img': 'data:image/gif;base64,R0lGODlhAQABAAAAACH5BAEKAAEALAAAAAABAAEAAAICTAEAOw=='}\n",
      "{'brand': '빅웨이브컬렉티브', 'name': '[5/15 순차출고] ALOHA CIRCLE TEE (NATURAL)', 'href': 'https://www.29cm.co.kr/product/642046', 'img': 'data:image/gif;base64,R0lGODlhAQABAAAAACH5BAEKAAEALAAAAAABAAEAAAICTAEAOw=='}\n",
      "{'brand': '토마스모어', 'name': 'ts0105 강연 랍빠티-화이트', 'href': 'https://www.29cm.co.kr/product/601469', 'img': 'data:image/gif;base64,R0lGODlhAQABAAAAACH5BAEKAAEALAAAAAABAAEAAAICTAEAOw=='}\n",
      "{'brand': '클리프', 'name': 'CHERIE TEE (WHITE)', 'href': 'https://www.29cm.co.kr/product/138820', 'img': 'data:image/gif;base64,R0lGODlhAQABAAAAACH5BAEKAAEALAAAAAABAAEAAAICTAEAOw=='}\n",
      "{'brand': '리올그', 'name': 'PRINTING T-SHIRTS GREEN', 'href': 'https://www.29cm.co.kr/product/239374', 'img': 'data:image/gif;base64,R0lGODlhAQABAAAAACH5BAEKAAEALAAAAAABAAEAAAICTAEAOw=='}\n",
      "{'brand': '플루크', 'name': '플루크 서클 마운틴 반팔티셔츠 FST142 / 4color M', 'href': 'https://www.29cm.co.kr/product/625194', 'img': 'data:image/gif;base64,R0lGODlhAQABAAAAACH5BAEKAAEALAAAAAABAAEAAAICTAEAOw=='}\n",
      "{'brand': '데상트', 'name': '남녀공용 터프티 워딩로고 반팔티셔츠 (S0123UTS13)', 'href': 'https://www.29cm.co.kr/product/621249', 'img': 'data:image/gif;base64,R0lGODlhAQABAAAAACH5BAEKAAEALAAAAAABAAEAAAICTAEAOw=='}\n",
      "{'brand': '클리프', 'name': 'CHERIE TEE (BEIGE GRAY)', 'href': 'https://www.29cm.co.kr/product/224372', 'img': 'data:image/gif;base64,R0lGODlhAQABAAAAACH5BAEKAAEALAAAAAABAAEAAAICTAEAOw=='}\n",
      "{'brand': '토마스모어', 'name': 'ts0105 강연 랍빠티-유칼립투스', 'href': 'https://www.29cm.co.kr/product/602100', 'img': 'data:image/gif;base64,R0lGODlhAQABAAAAACH5BAEKAAEALAAAAAABAAEAAAICTAEAOw=='}\n",
      "{'brand': '플루크', 'name': '플루크 어드벤쳐 폰트 피그먼트 오버핏 반팔티셔츠 FST705 / 5color', 'href': 'https://www.29cm.co.kr/product/624808', 'img': 'data:image/gif;base64,R0lGODlhAQABAAAAACH5BAEKAAEALAAAAAABAAEAAAICTAEAOw=='}\n",
      "{'brand': '지오지아', 'name': '코튼 포켓 THE GREAT 티셔츠(WT)', 'href': 'https://www.29cm.co.kr/product/627317', 'img': 'data:image/gif;base64,R0lGODlhAQABAAAAACH5BAEKAAEALAAAAAABAAEAAAICTAEAOw=='}\n",
      "{'brand': '토마스모어', 'name': 'ts0105 강연 랍빠티-내추럴', 'href': 'https://www.29cm.co.kr/product/601468', 'img': 'data:image/gif;base64,R0lGODlhAQABAAAAACH5BAEKAAEALAAAAAABAAEAAAICTAEAOw=='}\n",
      "{'brand': '테니스 보이 클럽', 'name': '[TENNIS BOY CLUB] ACE T-SHIRTS 3COLORS', 'href': 'https://www.29cm.co.kr/product/375385', 'img': 'data:image/gif;base64,R0lGODlhAQABAAAAACH5BAEKAAEALAAAAAABAAEAAAICTAEAOw=='}\n"
     ]
    }
   ],
   "source": [
    "for i in items:\n",
    "    print(i)"
   ]
  },
  {
   "cell_type": "markdown",
   "metadata": {},
   "source": [
    "#### 세부 데이터 URL"
   ]
  },
  {
   "cell_type": "code",
   "execution_count": 23,
   "metadata": {
    "scrolled": true
   },
   "outputs": [
    {
     "data": {
      "text/plain": [
       "'https://www.29cm.co.kr/product/601123'"
      ]
     },
     "execution_count": 23,
     "metadata": {},
     "output_type": "execute_result"
    }
   ],
   "source": [
    "item_detail_url = items[4][\"href\"]\n",
    "item_detail_url"
   ]
  },
  {
   "cell_type": "markdown",
   "metadata": {},
   "source": [
    "#### 세부 데이터 크롤링"
   ]
  },
  {
   "cell_type": "code",
   "execution_count": 31,
   "metadata": {},
   "outputs": [],
   "source": [
    "# 데이터 저장 dict\n",
    "detail_item_info = {}\n",
    "\n",
    "# 접속\n",
    "driver.get(item_detail_url)\n",
    "\n",
    "# 기본정보\n",
    "detail_item = driver.find_element_by_css_selector(\"div.detail_item\")\n",
    "detail_item_info[\"shop\"] = \"29cm\"\n",
    "detail_item_info[\"brand\"] = detail_item.find_element_by_css_selector(\"h1.kor\").text\n",
    "# detail_item_info[\"brand\"] = detail_item.find_element_by_css_selector(\"h1.eng\").text\n",
    "detail_item_info[\"product\"] = detail_item.find_element_by_css_selector(\"div.name\").text\n",
    "detail_item_info[\"product_id\"] = driver.find_element_by_css_selector(\"em.dsc\").text\n",
    "\n",
    "# 이미지url\n",
    "detail_item_img = detail_item.find_element_by_css_selector(\"img.b-lazy.b-loaded\").get_attribute(\"src\")\n",
    "detail_item_info[\"img\"] = detail_item_img\n",
    "\n",
    "# 상세정보\n",
    "infos = driver.find_element_by_css_selector(\"div.item_info\").find_elements_by_css_selector(\"tr\")\n",
    "for row in infos:\n",
    "    key = row.find_element_by_css_selector(\"th\").find_element_by_css_selector(\"div\").text\n",
    "    value = row.find_element_by_css_selector(\"td\").find_element_by_css_selector(\"div\").text\n",
    "    detail_item_info[key] = value"
   ]
  },
  {
   "cell_type": "code",
   "execution_count": 32,
   "metadata": {},
   "outputs": [
    {
     "data": {
      "text/plain": [
       "{'shop': '29cm',\n",
       " 'brand': '네이더스',\n",
       " 'product': '505C-2 STANDARD SS T-SHIRT',\n",
       " 'product_id': '601123',\n",
       " 'img': 'https://img.29cm.co.kr/next-product/2020/02/27/9a4f89337cbf4724a3ab82b2486bcc79_20200227154352.jpg?width=700',\n",
       " '제품 소재': 'COTTON 100%',\n",
       " '색상': 'NAVY',\n",
       " '치수': '0,3,4,5',\n",
       " '제조자': 'N/BENEDEF INNOVATIONS',\n",
       " '제조국': 'KOREA',\n",
       " '세탁방법 및 취급시 주의사항': '케어라벨 참조',\n",
       " '제조연월': '-',\n",
       " '품질보증기준': '* 교환 및 반품은 제품수령일 기준으로 7일 이내에 보내주셔야 가능합니다. * 종이택(가격택)을 제거시 재판매가 불가능하여 교환 및 반품이 불가능합니다.',\n",
       " 'A/S 책임자와 전화번호': '29CM 고객행복센터 1644-0560'}"
      ]
     },
     "execution_count": 32,
     "metadata": {},
     "output_type": "execute_result"
    }
   ],
   "source": [
    "detail_item_info"
   ]
  },
  {
   "cell_type": "code",
   "execution_count": null,
   "metadata": {},
   "outputs": [],
   "source": []
  },
  {
   "cell_type": "code",
   "execution_count": 12,
   "metadata": {},
   "outputs": [],
   "source": [
    "def getBSobj(category_name, page=\"1\"):\n",
    "    url = f\"https://www.29cm.co.kr/shop/category/list?category_large_code=255100100&category_medium_code={category_name[:7]}00&category_small_code={category_name}&sort=latest&page={page}&brand=&min_price=&max_price=&count=50\"\n",
    "    print(url)\n",
    "    session = requests.Session()\n",
    "    headers = {\n",
    "        \"User-Agent\": \"Mozilla/5.0 (Macintosh; Intel Mac OS X 10_9_5) AppleWebKit 537.36 (KHTML, like Gecko) Chrome\",\n",
    "        \"Accept\": \"text/html,application/xhtml+xml,application/xml;q=0.9,image/webp,*/*;q=0.8\"\n",
    "    }\n",
    "    html = session.get(url, headers=headers).content\n",
    "    bsObj = bs(html, \"html.parser\")\n",
    "    return bsObj"
   ]
  },
  {
   "cell_type": "code",
   "execution_count": 15,
   "metadata": {},
   "outputs": [
    {
     "name": "stdout",
     "output_type": "stream",
     "text": [
      "https://www.29cm.co.kr/shop/category/list?category_large_code=255100100&category_medium_code=255118100&category_small_code=255118101&sort=latest&page=1&brand=&min_price=&max_price=&count=50\n"
     ]
    },
    {
     "data": {
      "text/plain": [
       "<ui-root></ui-root>"
      ]
     },
     "execution_count": 15,
     "metadata": {},
     "output_type": "execute_result"
    }
   ],
   "source": [
    "cate = medium_category[\"top\"][0] + medium_category[\"top\"][1][\"short_sleeve\"]\n",
    "cate\n",
    "bsobj = getBSobj(cate)\n",
    "bsobj.find(\"ui-root\")"
   ]
  },
  {
   "cell_type": "markdown",
   "metadata": {},
   "source": [
    "### 저장용 디렉토리 생성"
   ]
  },
  {
   "cell_type": "code",
   "execution_count": 5,
   "metadata": {},
   "outputs": [],
   "source": [
    "def check_directory(category_name, folder_path=None):\n",
    "    if folder_path == None:\n",
    "        folder_path = \"C:/Users/seungsu/Desktop/ICT-project/crawling\"\n",
    "    try:\n",
    "        os.mkdir(f\"{folder_path}/{category_name}/\")\n",
    "        print(\"Directory is created!\")\n",
    "    except:\n",
    "        print(\"Directory exist!\")"
   ]
  },
  {
   "cell_type": "code",
   "execution_count": null,
   "metadata": {},
   "outputs": [],
   "source": []
  },
  {
   "cell_type": "markdown",
   "metadata": {},
   "source": [
    "### 단일페이지 크롤러"
   ]
  },
  {
   "cell_type": "code",
   "execution_count": 6,
   "metadata": {},
   "outputs": [],
   "source": [
    "def crawl_page(bsObj, category_name):\n",
    "    body = bsObj.find(\"ul\", {\"class\":\"prd_section\"})\n",
    "    all_items = body.find_all(\"a\", {\"class\":\"prd_b_area\"})\n",
    "    items = []\n",
    "    for a in all_items:\n",
    "        item_url = a[\"href\"]     #세부 아이템 url\n",
    "        item_img = a.find(\"div\", {\"class\":\"imgbx\"}).find(\"img\", {\"class\":\"b-lazy\"})[\"src\"]\n",
    "        item_brand = a.find(\"div\", {\"class\":\"brand\"})\n",
    "        item_name = a.find(\"div\", {\"class\":\"name\"})\n",
    "        img = \"http:\" + item_img\n",
    "        items.append([item_brand, item_name, item_url, img])\n",
    "#         image = urllib.request.urlretrieve(img, f\"./{category_name}/{id}.png\")\n",
    "#         #image resize\n",
    "#         image = Image.open(f\"./{category_name}/{id}.png\")\n",
    "#         resize_img = image.resize((125,125))\n",
    "#         resize_img.save(f\"./{category_name}/{id}.png\")\n",
    "        print(item_url)\n",
    "        print(item_brand, item_name, item_url, img)\n",
    "    return items\n",
    "    \n",
    "# crawl_page(getBSobj(page=\"1\",category=\"001004\"), category_name=\"상의\")"
   ]
  },
  {
   "cell_type": "code",
   "execution_count": 9,
   "metadata": {},
   "outputs": [
    {
     "ename": "AttributeError",
     "evalue": "'NoneType' object has no attribute 'find_all'",
     "output_type": "error",
     "traceback": [
      "\u001b[1;31m---------------------------------------------------------------------------\u001b[0m",
      "\u001b[1;31mAttributeError\u001b[0m                            Traceback (most recent call last)",
      "\u001b[1;32m<ipython-input-9-6f4578e1921d>\u001b[0m in \u001b[0;36m<module>\u001b[1;34m\u001b[0m\n\u001b[1;32m----> 1\u001b[1;33m \u001b[0mcrawl_page\u001b[0m\u001b[1;33m(\u001b[0m\u001b[0mbsobj\u001b[0m\u001b[1;33m,\u001b[0m \u001b[0mcate\u001b[0m\u001b[1;33m)\u001b[0m\u001b[1;33m\u001b[0m\u001b[1;33m\u001b[0m\u001b[0m\n\u001b[0m",
      "\u001b[1;32m<ipython-input-6-54682cf252a9>\u001b[0m in \u001b[0;36mcrawl_page\u001b[1;34m(bsObj, category_name)\u001b[0m\n\u001b[0;32m      1\u001b[0m \u001b[1;32mdef\u001b[0m \u001b[0mcrawl_page\u001b[0m\u001b[1;33m(\u001b[0m\u001b[0mbsObj\u001b[0m\u001b[1;33m,\u001b[0m \u001b[0mcategory_name\u001b[0m\u001b[1;33m)\u001b[0m\u001b[1;33m:\u001b[0m\u001b[1;33m\u001b[0m\u001b[1;33m\u001b[0m\u001b[0m\n\u001b[0;32m      2\u001b[0m     \u001b[0mbody\u001b[0m \u001b[1;33m=\u001b[0m \u001b[0mbsObj\u001b[0m\u001b[1;33m.\u001b[0m\u001b[0mfind\u001b[0m\u001b[1;33m(\u001b[0m\u001b[1;34m\"ul\"\u001b[0m\u001b[1;33m,\u001b[0m \u001b[1;33m{\u001b[0m\u001b[1;34m\"class\"\u001b[0m\u001b[1;33m:\u001b[0m\u001b[1;34m\"prd_section\"\u001b[0m\u001b[1;33m}\u001b[0m\u001b[1;33m)\u001b[0m\u001b[1;33m\u001b[0m\u001b[1;33m\u001b[0m\u001b[0m\n\u001b[1;32m----> 3\u001b[1;33m     \u001b[0mall_items\u001b[0m \u001b[1;33m=\u001b[0m \u001b[0mbody\u001b[0m\u001b[1;33m.\u001b[0m\u001b[0mfind_all\u001b[0m\u001b[1;33m(\u001b[0m\u001b[1;34m\"a\"\u001b[0m\u001b[1;33m,\u001b[0m \u001b[1;33m{\u001b[0m\u001b[1;34m\"class\"\u001b[0m\u001b[1;33m:\u001b[0m\u001b[1;34m\"prd_b_area\"\u001b[0m\u001b[1;33m}\u001b[0m\u001b[1;33m)\u001b[0m\u001b[1;33m\u001b[0m\u001b[1;33m\u001b[0m\u001b[0m\n\u001b[0m\u001b[0;32m      4\u001b[0m     \u001b[0mitems\u001b[0m \u001b[1;33m=\u001b[0m \u001b[1;33m[\u001b[0m\u001b[1;33m]\u001b[0m\u001b[1;33m\u001b[0m\u001b[1;33m\u001b[0m\u001b[0m\n\u001b[0;32m      5\u001b[0m     \u001b[1;32mfor\u001b[0m \u001b[0ma\u001b[0m \u001b[1;32min\u001b[0m \u001b[0mall_items\u001b[0m\u001b[1;33m:\u001b[0m\u001b[1;33m\u001b[0m\u001b[1;33m\u001b[0m\u001b[0m\n",
      "\u001b[1;31mAttributeError\u001b[0m: 'NoneType' object has no attribute 'find_all'"
     ]
    }
   ],
   "source": [
    "crawl_page(bsobj, cate)"
   ]
  }
 ],
 "metadata": {
  "kernelspec": {
   "display_name": "Python 3",
   "language": "python",
   "name": "python3"
  },
  "language_info": {
   "codemirror_mode": {
    "name": "ipython",
    "version": 3
   },
   "file_extension": ".py",
   "mimetype": "text/x-python",
   "name": "python",
   "nbconvert_exporter": "python",
   "pygments_lexer": "ipython3",
   "version": "3.7.4"
  }
 },
 "nbformat": 4,
 "nbformat_minor": 2
}
